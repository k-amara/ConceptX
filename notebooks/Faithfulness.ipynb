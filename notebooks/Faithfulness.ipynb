{
 "cells": [
  {
   "cell_type": "code",
   "execution_count": 1,
   "metadata": {},
   "outputs": [],
   "source": [
    "import os\n",
    "import pandas as pd\n",
    "import pickle\n",
    "import numpy as np\n",
    "\n",
    "import pandas as pd\n",
    "import seaborn as sns\n",
    "import matplotlib.pyplot as plt\n",
    "sns.set()\n",
    "\n",
    "plt.rcParams['figure.dpi'] = 600\n",
    "plt.rcParams['savefig.dpi'] = 600"
   ]
  },
  {
   "cell_type": "code",
   "execution_count": null,
   "metadata": {},
   "outputs": [],
   "source": [
    "save_dir = \"/cluster/home/kamara/conceptx\"\n",
    "\n",
    "dataset = \"genderbias\"\n",
    "model_name = \"llama-3-3b\"\n",
    "seed_ = 0"
   ]
  },
  {
   "cell_type": "code",
   "execution_count": null,
   "metadata": {},
   "outputs": [],
   "source": [
    "folder_path = os.path.join(save_dir, f\"results/faithfulness/{model_name}/{dataset}\")  # Replace with your folder path\n",
    "\n",
    "# Initialize a list to store the dataframes\n",
    "df_list = []\n",
    "\n",
    "# Loop through each file in the folder\n",
    "for root, dirs, files in os.walk(folder_path):\n",
    "    for file in files:\n",
    "        full_path = os.path.join(root, file)\n",
    "        parts = file.split('_')\n",
    "        print(\"parts: \", parts)\n",
    "        \n",
    "        df = pd.read_csv(full_path, )\n",
    "\n",
    "        if \"batch\" in parts[1]:\n",
    "            dataset_idx = 3\n",
    "        else:\n",
    "            dataset_idx = 1\n",
    "        df[\"dataset\"] = parts[dataset_idx]\n",
    "        df[\"model\"] = parts[dataset_idx + 1]\n",
    "        df[\"explainer\"] = parts[dataset_idx + 2]\n",
    "        \n",
    "        if len(parts) > dataset_idx + 4:\n",
    "            df[\"baseline\"] = parts[dataset_idx + 3]\n",
    "            seed_idx = dataset_idx + 4\n",
    "        else:\n",
    "            df[\"baseline\"] = None\n",
    "            seed_idx = dataset_idx + 3\n",
    "\n",
    "        df[\"seed\"] = parts[seed_idx].split(\".\")[0]\n",
    "        df_list.append(df)\n",
    "\n",
    "# Concatenate all dataframes in the list\n",
    "df_all = pd.concat(df_list, ignore_index=True)\n",
    "df_all\n"
   ]
  }
 ],
 "metadata": {
  "kernelspec": {
   "display_name": ".venv",
   "language": "python",
   "name": "python3"
  },
  "language_info": {
   "codemirror_mode": {
    "name": "ipython",
    "version": 3
   },
   "file_extension": ".py",
   "mimetype": "text/x-python",
   "name": "python",
   "nbconvert_exporter": "python",
   "pygments_lexer": "ipython3",
   "version": "3.10.12"
  }
 },
 "nbformat": 4,
 "nbformat_minor": 2
}
