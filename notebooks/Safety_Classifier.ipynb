{
 "cells": [
  {
   "cell_type": "code",
   "execution_count": 1,
   "metadata": {},
   "outputs": [],
   "source": [
    "import os\n",
    "import pandas as pd\n",
    "import pickle\n",
    "import numpy as np\n",
    "\n",
    "import pandas as pd\n",
    "import seaborn as sns\n",
    "import matplotlib.pyplot as plt\n",
    "sns.set()\n",
    "\n",
    "plt.rcParams['figure.dpi'] = 600\n",
    "plt.rcParams['savefig.dpi'] = 600"
   ]
  },
  {
   "cell_type": "code",
   "execution_count": 2,
   "metadata": {},
   "outputs": [],
   "source": [
    "explainer_map = {'conceptx': 'ConceptX', 'aconceptx': 'AntonymConceptX', 'conceptx_r': 'ConceptX-R', 'conceptx_a': 'ConceptX-A', 'conceptshap': 'ConceptSHAP', 'tokenshap': 'TokenSHAP', 'random': 'Random'}\n",
    "explainer_order = [\"Random\", \"TokenSHAP\", \"ConceptSHAP\", \"ConceptX\", 'AntonymConceptX', \"ConceptX-R\", \"ConceptX-A\"]\n",
    "MODEL_NAMES = {\"mistral-7b-it\": \"Mistral-7B-Instruct\", \"gemma-2-2b\":\"Gemma-2-2B\", \"gemma-3-4b\":\"Gemma-3-4B\", \"gpt4o-mini\": \"GPT-4o-mini\", \"llama-3-3b\": \"Llama-3.2-3B\"}"
   ]
  },
  {
   "cell_type": "code",
   "execution_count": 13,
   "metadata": {},
   "outputs": [],
   "source": [
    "save_dir = \"/cluster/home/kamara/conceptx\"\n",
    "seed = 0\n",
    "dataset = \"saladbench\"\n",
    "model_name = \"mistral-7b-it\"\n"
   ]
  },
  {
   "cell_type": "code",
   "execution_count": 17,
   "metadata": {},
   "outputs": [
    {
     "name": "stdout",
     "output_type": "stream",
     "text": [
      "parts:  ['safety', 'saladbench', 'mistral-7b-it', '0.csv']\n",
      "parts:  ['safety', 'batch', '8', 'saladbench', 'mistral-7b-it', '0.csv']\n",
      "parts:  ['safety', 'batch', '5', 'saladbench', 'mistral-7b-it', '0.csv']\n",
      "parts:  ['safety', 'batch', '6', 'saladbench', 'mistral-7b-it', '0.csv']\n",
      "parts:  ['safety', 'batch', '7', 'saladbench', 'mistral-7b-it', '0.csv']\n",
      "parts:  ['safety', 'batch', '4', 'saladbench', 'mistral-7b-it', '0.csv']\n",
      "parts:  ['safety', 'batch', '10', 'saladbench', 'mistral-7b-it', '0.csv']\n",
      "parts:  ['safety', 'batch', '3', 'saladbench', 'mistral-7b-it', '0.csv']\n",
      "parts:  ['safety', 'batch', '2', 'saladbench', 'mistral-7b-it', '0.csv']\n",
      "parts:  ['safety', 'batch', '0', 'saladbench', 'mistral-7b-it', '0.csv']\n",
      "parts:  ['safety', 'batch', '1', 'saladbench', 'mistral-7b-it', '0.csv']\n"
     ]
    }
   ],
   "source": [
    "folder_path = os.path.join(save_dir, f\"results/safety/mistral-7b-it/saladbench/seed_0\")  # Replace with your folder path\n",
    "\n",
    "# Initialize a list to store the dataframes\n",
    "df_list = []\n",
    "\n",
    "# Loop through each file in the folder\n",
    "for root, dirs, files in os.walk(folder_path):\n",
    "    for file in files:\n",
    "        full_path = os.path.join(root, file)\n",
    "        parts = file.split('_')\n",
    "        print('parts: ', parts)\n",
    "        \n",
    "        df = pd.read_csv(full_path)\n",
    "\n",
    "        if \"batch\" in parts[1]:\n",
    "            dataset_idx = 3\n",
    "            df[\"batch\"] = parts[2]\n",
    "        else:\n",
    "            dataset_idx = 1\n",
    "        df[\"dataset\"] = parts[dataset_idx]\n",
    "        df[\"model\"] = parts[dataset_idx + 1]\n",
    "        seed_idx = dataset_idx + 2\n",
    "        df[\"seed\"] = parts[seed_idx].split(\".\")[0]\n",
    "        df_list.append(df)\n",
    "\n",
    "# Concatenate all dataframes in the list\n",
    "df_all = pd.concat(df_list, ignore_index=True)"
   ]
  },
  {
   "cell_type": "code",
   "execution_count": 18,
   "metadata": {},
   "outputs": [],
   "source": [
    "def compute_asr_hs(df):\n",
    "    results = {\n",
    "        \"initial\": {\n",
    "            \"ASR\": (df[\"asr_0\"] == \"unsafe\").mean(),\n",
    "            \"HS\": df[\"score_0\"].mean()\n",
    "        },\n",
    "        \"gpt4o-mini\": {\n",
    "            \"ASR\": (df[\"asr_label\"] == \"unsafe\").mean(),\n",
    "            \"HS\": df[\"score_label\"].mean()\n",
    "        }\n",
    "    }\n",
    "\n",
    "    # Create a summary DataFrame for display\n",
    "    summary_df = pd.DataFrame(results).T\n",
    "    summary_df.columns = [\"ASR\", \"HS\"]\n",
    "    return summary_df"
   ]
  },
  {
   "cell_type": "code",
   "execution_count": 19,
   "metadata": {},
   "outputs": [
    {
     "name": "stdout",
     "output_type": "stream",
     "text": [
      "                 ASR        HS\n",
      "initial     0.419162  2.384232\n",
      "gpt4o-mini  0.119760  1.439122\n"
     ]
    }
   ],
   "source": [
    "summary = compute_asr_hs(df_all)\n",
    "print(summary)"
   ]
  }
 ],
 "metadata": {
  "kernelspec": {
   "display_name": "Python (.venv)",
   "language": "python",
   "name": ".venv"
  },
  "language_info": {
   "codemirror_mode": {
    "name": "ipython",
    "version": 3
   },
   "file_extension": ".py",
   "mimetype": "text/x-python",
   "name": "python",
   "nbconvert_exporter": "python",
   "pygments_lexer": "ipython3",
   "version": "3.10.12"
  }
 },
 "nbformat": 4,
 "nbformat_minor": 2
}
